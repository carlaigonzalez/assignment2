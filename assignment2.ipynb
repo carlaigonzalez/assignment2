{
 "cells": [
  {
   "cell_type": "markdown",
   "id": "01ebba21-fde2-4680-83b8-8dbe53fbba28",
   "metadata": {},
   "source": [
    "## Assignment 2: Data Bias, Perspective API Exploration"
   ]
  },
  {
   "cell_type": "markdown",
   "id": "c3352e2e-c14f-49dd-a110-36c9ac11f6cf",
   "metadata": {
    "tags": []
   },
   "source": [
    "#### For this assignment we are going to explore data bias with the help of  a dataset of internet comments and with a perspectove API score toxicity comments.\n",
    "\n",
    "#### First we are start getting familiriaze with the dataset by looking at important characteristcis of it: "
   ]
  },
  {
   "cell_type": "code",
   "execution_count": 11,
   "id": "2026a0b9-24ad-4e43-9f25-a40db190cd3d",
   "metadata": {
    "tags": []
   },
   "outputs": [],
   "source": [
    "import pandas as pd\n",
    "import time\n",
    "\n",
    "df = pd.read_csv(\"labeled_and_scored_comments.csv\")"
   ]
  },
  {
   "cell_type": "code",
   "execution_count": 2,
   "id": "1b48613f-ba93-44e0-a4ee-770cd174ac91",
   "metadata": {},
   "outputs": [
    {
     "data": {
      "text/html": [
       "<div>\n",
       "<style scoped>\n",
       "    .dataframe tbody tr th:only-of-type {\n",
       "        vertical-align: middle;\n",
       "    }\n",
       "\n",
       "    .dataframe tbody tr th {\n",
       "        vertical-align: top;\n",
       "    }\n",
       "\n",
       "    .dataframe thead th {\n",
       "        text-align: right;\n",
       "    }\n",
       "</style>\n",
       "<table border=\"1\" class=\"dataframe\">\n",
       "  <thead>\n",
       "    <tr style=\"text-align: right;\">\n",
       "      <th></th>\n",
       "      <th>id</th>\n",
       "      <th>comment_text</th>\n",
       "      <th>score</th>\n",
       "      <th>toxic</th>\n",
       "      <th>severe_toxic</th>\n",
       "      <th>obscene</th>\n",
       "      <th>threat</th>\n",
       "      <th>insult</th>\n",
       "      <th>identity_hate</th>\n",
       "    </tr>\n",
       "  </thead>\n",
       "  <tbody>\n",
       "    <tr>\n",
       "      <th>1158</th>\n",
       "      <td>61a85266de70cca0</td>\n",
       "      <td>Можешь говорить по русски.</td>\n",
       "      <td>0.000004</td>\n",
       "      <td>0</td>\n",
       "      <td>0</td>\n",
       "      <td>0</td>\n",
       "      <td>0</td>\n",
       "      <td>0</td>\n",
       "      <td>0</td>\n",
       "    </tr>\n",
       "    <tr>\n",
       "      <th>5246</th>\n",
       "      <td>030a9ba0b32b4456</td>\n",
       "      <td>Rodzina Krusenstern Potomkowie Admirała Adama ...</td>\n",
       "      <td>0.000009</td>\n",
       "      <td>0</td>\n",
       "      <td>0</td>\n",
       "      <td>0</td>\n",
       "      <td>0</td>\n",
       "      <td>0</td>\n",
       "      <td>0</td>\n",
       "    </tr>\n",
       "    <tr>\n",
       "      <th>11040</th>\n",
       "      <td>a6814193ac6b4705</td>\n",
       "      <td>The opening paragraph states that the game is ...</td>\n",
       "      <td>0.000091</td>\n",
       "      <td>0</td>\n",
       "      <td>0</td>\n",
       "      <td>0</td>\n",
       "      <td>0</td>\n",
       "      <td>0</td>\n",
       "      <td>0</td>\n",
       "    </tr>\n",
       "    <tr>\n",
       "      <th>24192</th>\n",
       "      <td>f0d6dee96e057a5b</td>\n",
       "      <td>The book is used as a source in a number of ar...</td>\n",
       "      <td>0.000116</td>\n",
       "      <td>0</td>\n",
       "      <td>0</td>\n",
       "      <td>0</td>\n",
       "      <td>0</td>\n",
       "      <td>0</td>\n",
       "      <td>0</td>\n",
       "    </tr>\n",
       "    <tr>\n",
       "      <th>2332</th>\n",
       "      <td>cbb9268d3c7429c1</td>\n",
       "      <td>Vals Vienés \\n |Rumba \\n |Cha Cha Chá(ciclo 7)</td>\n",
       "      <td>0.000131</td>\n",
       "      <td>0</td>\n",
       "      <td>0</td>\n",
       "      <td>0</td>\n",
       "      <td>0</td>\n",
       "      <td>0</td>\n",
       "      <td>0</td>\n",
       "    </tr>\n",
       "    <tr>\n",
       "      <th>...</th>\n",
       "      <td>...</td>\n",
       "      <td>...</td>\n",
       "      <td>...</td>\n",
       "      <td>...</td>\n",
       "      <td>...</td>\n",
       "      <td>...</td>\n",
       "      <td>...</td>\n",
       "      <td>...</td>\n",
       "      <td>...</td>\n",
       "    </tr>\n",
       "    <tr>\n",
       "      <th>19994</th>\n",
       "      <td>1429a2c930688317</td>\n",
       "      <td>you fucking piece of shit</td>\n",
       "      <td>0.997278</td>\n",
       "      <td>1</td>\n",
       "      <td>1</td>\n",
       "      <td>1</td>\n",
       "      <td>0</td>\n",
       "      <td>1</td>\n",
       "      <td>0</td>\n",
       "    </tr>\n",
       "    <tr>\n",
       "      <th>28728</th>\n",
       "      <td>d82e45eb103ad07b</td>\n",
       "      <td>fuck off you stupid aspy asshole</td>\n",
       "      <td>0.997736</td>\n",
       "      <td>1</td>\n",
       "      <td>1</td>\n",
       "      <td>1</td>\n",
       "      <td>0</td>\n",
       "      <td>1</td>\n",
       "      <td>0</td>\n",
       "    </tr>\n",
       "    <tr>\n",
       "      <th>25535</th>\n",
       "      <td>e9b92c6c6b01aeef</td>\n",
       "      <td>FUCK YOU YOU PIECE OF SHIT \\n FUCK YOU YOU PIE...</td>\n",
       "      <td>0.997982</td>\n",
       "      <td>1</td>\n",
       "      <td>1</td>\n",
       "      <td>1</td>\n",
       "      <td>0</td>\n",
       "      <td>1</td>\n",
       "      <td>0</td>\n",
       "    </tr>\n",
       "    <tr>\n",
       "      <th>25945</th>\n",
       "      <td>e783fd267f3a9d3b</td>\n",
       "      <td>FUCK WIKIPEDIA ON WHEELS! \\n\\nFuck off wikiped...</td>\n",
       "      <td>0.998136</td>\n",
       "      <td>1</td>\n",
       "      <td>1</td>\n",
       "      <td>1</td>\n",
       "      <td>0</td>\n",
       "      <td>1</td>\n",
       "      <td>0</td>\n",
       "    </tr>\n",
       "    <tr>\n",
       "      <th>17833</th>\n",
       "      <td>364b6c24210e2345</td>\n",
       "      <td>Fuck you you fucking pig!\\n\\nYou motherfucking...</td>\n",
       "      <td>0.998329</td>\n",
       "      <td>1</td>\n",
       "      <td>0</td>\n",
       "      <td>1</td>\n",
       "      <td>0</td>\n",
       "      <td>1</td>\n",
       "      <td>0</td>\n",
       "    </tr>\n",
       "  </tbody>\n",
       "</table>\n",
       "<p>41338 rows × 9 columns</p>\n",
       "</div>"
      ],
      "text/plain": [
       "                     id                                       comment_text  \\\n",
       "1158   61a85266de70cca0                         Можешь говорить по русски.   \n",
       "5246   030a9ba0b32b4456  Rodzina Krusenstern Potomkowie Admirała Adama ...   \n",
       "11040  a6814193ac6b4705  The opening paragraph states that the game is ...   \n",
       "24192  f0d6dee96e057a5b  The book is used as a source in a number of ar...   \n",
       "2332   cbb9268d3c7429c1     Vals Vienés \\n |Rumba \\n |Cha Cha Chá(ciclo 7)   \n",
       "...                 ...                                                ...   \n",
       "19994  1429a2c930688317                          you fucking piece of shit   \n",
       "28728  d82e45eb103ad07b                   fuck off you stupid aspy asshole   \n",
       "25535  e9b92c6c6b01aeef  FUCK YOU YOU PIECE OF SHIT \\n FUCK YOU YOU PIE...   \n",
       "25945  e783fd267f3a9d3b  FUCK WIKIPEDIA ON WHEELS! \\n\\nFuck off wikiped...   \n",
       "17833  364b6c24210e2345  Fuck you you fucking pig!\\n\\nYou motherfucking...   \n",
       "\n",
       "          score  toxic  severe_toxic  obscene  threat  insult  identity_hate  \n",
       "1158   0.000004      0             0        0       0       0              0  \n",
       "5246   0.000009      0             0        0       0       0              0  \n",
       "11040  0.000091      0             0        0       0       0              0  \n",
       "24192  0.000116      0             0        0       0       0              0  \n",
       "2332   0.000131      0             0        0       0       0              0  \n",
       "...         ...    ...           ...      ...     ...     ...            ...  \n",
       "19994  0.997278      1             1        1       0       1              0  \n",
       "28728  0.997736      1             1        1       0       1              0  \n",
       "25535  0.997982      1             1        1       0       1              0  \n",
       "25945  0.998136      1             1        1       0       1              0  \n",
       "17833  0.998329      1             0        1       0       1              0  \n",
       "\n",
       "[41338 rows x 9 columns]"
      ]
     },
     "execution_count": 2,
     "metadata": {},
     "output_type": "execute_result"
    }
   ],
   "source": [
    "df.sort_values([\"score\"])"
   ]
  },
  {
   "cell_type": "code",
   "execution_count": 4,
   "id": "e24700fa-6ee5-410b-bfd1-d29c80cd1e72",
   "metadata": {},
   "outputs": [
    {
     "data": {
      "text/html": [
       "<div>\n",
       "<style scoped>\n",
       "    .dataframe tbody tr th:only-of-type {\n",
       "        vertical-align: middle;\n",
       "    }\n",
       "\n",
       "    .dataframe tbody tr th {\n",
       "        vertical-align: top;\n",
       "    }\n",
       "\n",
       "    .dataframe thead th {\n",
       "        text-align: right;\n",
       "    }\n",
       "</style>\n",
       "<table border=\"1\" class=\"dataframe\">\n",
       "  <thead>\n",
       "    <tr style=\"text-align: right;\">\n",
       "      <th></th>\n",
       "      <th>score</th>\n",
       "      <th>toxic</th>\n",
       "      <th>severe_toxic</th>\n",
       "      <th>obscene</th>\n",
       "      <th>threat</th>\n",
       "      <th>insult</th>\n",
       "      <th>identity_hate</th>\n",
       "    </tr>\n",
       "  </thead>\n",
       "  <tbody>\n",
       "    <tr>\n",
       "      <th>count</th>\n",
       "      <td>41338.000000</td>\n",
       "      <td>41338.000000</td>\n",
       "      <td>41338.000000</td>\n",
       "      <td>41338.000000</td>\n",
       "      <td>41338.000000</td>\n",
       "      <td>41338.000000</td>\n",
       "      <td>41338.000000</td>\n",
       "    </tr>\n",
       "    <tr>\n",
       "      <th>mean</th>\n",
       "      <td>0.244467</td>\n",
       "      <td>0.095384</td>\n",
       "      <td>0.009168</td>\n",
       "      <td>0.053050</td>\n",
       "      <td>0.003024</td>\n",
       "      <td>0.049809</td>\n",
       "      <td>0.009725</td>\n",
       "    </tr>\n",
       "    <tr>\n",
       "      <th>std</th>\n",
       "      <td>0.257221</td>\n",
       "      <td>0.293749</td>\n",
       "      <td>0.095313</td>\n",
       "      <td>0.224137</td>\n",
       "      <td>0.054907</td>\n",
       "      <td>0.217553</td>\n",
       "      <td>0.098134</td>\n",
       "    </tr>\n",
       "    <tr>\n",
       "      <th>min</th>\n",
       "      <td>0.000004</td>\n",
       "      <td>0.000000</td>\n",
       "      <td>0.000000</td>\n",
       "      <td>0.000000</td>\n",
       "      <td>0.000000</td>\n",
       "      <td>0.000000</td>\n",
       "      <td>0.000000</td>\n",
       "    </tr>\n",
       "    <tr>\n",
       "      <th>25%</th>\n",
       "      <td>0.074772</td>\n",
       "      <td>0.000000</td>\n",
       "      <td>0.000000</td>\n",
       "      <td>0.000000</td>\n",
       "      <td>0.000000</td>\n",
       "      <td>0.000000</td>\n",
       "      <td>0.000000</td>\n",
       "    </tr>\n",
       "    <tr>\n",
       "      <th>50%</th>\n",
       "      <td>0.128969</td>\n",
       "      <td>0.000000</td>\n",
       "      <td>0.000000</td>\n",
       "      <td>0.000000</td>\n",
       "      <td>0.000000</td>\n",
       "      <td>0.000000</td>\n",
       "      <td>0.000000</td>\n",
       "    </tr>\n",
       "    <tr>\n",
       "      <th>75%</th>\n",
       "      <td>0.310894</td>\n",
       "      <td>0.000000</td>\n",
       "      <td>0.000000</td>\n",
       "      <td>0.000000</td>\n",
       "      <td>0.000000</td>\n",
       "      <td>0.000000</td>\n",
       "      <td>0.000000</td>\n",
       "    </tr>\n",
       "    <tr>\n",
       "      <th>max</th>\n",
       "      <td>0.998329</td>\n",
       "      <td>1.000000</td>\n",
       "      <td>1.000000</td>\n",
       "      <td>1.000000</td>\n",
       "      <td>1.000000</td>\n",
       "      <td>1.000000</td>\n",
       "      <td>1.000000</td>\n",
       "    </tr>\n",
       "  </tbody>\n",
       "</table>\n",
       "</div>"
      ],
      "text/plain": [
       "              score         toxic  severe_toxic       obscene        threat  \\\n",
       "count  41338.000000  41338.000000  41338.000000  41338.000000  41338.000000   \n",
       "mean       0.244467      0.095384      0.009168      0.053050      0.003024   \n",
       "std        0.257221      0.293749      0.095313      0.224137      0.054907   \n",
       "min        0.000004      0.000000      0.000000      0.000000      0.000000   \n",
       "25%        0.074772      0.000000      0.000000      0.000000      0.000000   \n",
       "50%        0.128969      0.000000      0.000000      0.000000      0.000000   \n",
       "75%        0.310894      0.000000      0.000000      0.000000      0.000000   \n",
       "max        0.998329      1.000000      1.000000      1.000000      1.000000   \n",
       "\n",
       "             insult  identity_hate  \n",
       "count  41338.000000   41338.000000  \n",
       "mean       0.049809       0.009725  \n",
       "std        0.217553       0.098134  \n",
       "min        0.000000       0.000000  \n",
       "25%        0.000000       0.000000  \n",
       "50%        0.000000       0.000000  \n",
       "75%        0.000000       0.000000  \n",
       "max        1.000000       1.000000  "
      ]
     },
     "execution_count": 4,
     "metadata": {},
     "output_type": "execute_result"
    }
   ],
   "source": [
    "df.describe()"
   ]
  },
  {
   "cell_type": "code",
   "execution_count": 10,
   "id": "866860cb-2623-40e0-a5b8-85155fead720",
   "metadata": {},
   "outputs": [
    {
     "data": {
      "text/html": [
       "<div>\n",
       "<style scoped>\n",
       "    .dataframe tbody tr th:only-of-type {\n",
       "        vertical-align: middle;\n",
       "    }\n",
       "\n",
       "    .dataframe tbody tr th {\n",
       "        vertical-align: top;\n",
       "    }\n",
       "\n",
       "    .dataframe thead th {\n",
       "        text-align: right;\n",
       "    }\n",
       "</style>\n",
       "<table border=\"1\" class=\"dataframe\">\n",
       "  <thead>\n",
       "    <tr style=\"text-align: right;\">\n",
       "      <th></th>\n",
       "      <th>id</th>\n",
       "      <th>comment_text</th>\n",
       "      <th>score</th>\n",
       "      <th>toxic</th>\n",
       "      <th>severe_toxic</th>\n",
       "      <th>obscene</th>\n",
       "      <th>threat</th>\n",
       "      <th>insult</th>\n",
       "      <th>identity_hate</th>\n",
       "    </tr>\n",
       "  </thead>\n",
       "  <tbody>\n",
       "    <tr>\n",
       "      <th>0</th>\n",
       "      <td>0001ea8717f6de06</td>\n",
       "      <td>Thank you for understanding. I think very high...</td>\n",
       "      <td>0.075638</td>\n",
       "      <td>0</td>\n",
       "      <td>0</td>\n",
       "      <td>0</td>\n",
       "      <td>0</td>\n",
       "      <td>0</td>\n",
       "      <td>0</td>\n",
       "    </tr>\n",
       "    <tr>\n",
       "      <th>1</th>\n",
       "      <td>000247e83dcc1211</td>\n",
       "      <td>:Dear god this site is horrible.</td>\n",
       "      <td>0.450459</td>\n",
       "      <td>0</td>\n",
       "      <td>0</td>\n",
       "      <td>0</td>\n",
       "      <td>0</td>\n",
       "      <td>0</td>\n",
       "      <td>0</td>\n",
       "    </tr>\n",
       "    <tr>\n",
       "      <th>2</th>\n",
       "      <td>0002f87b16116a7f</td>\n",
       "      <td>\"::: Somebody will invariably try to add Relig...</td>\n",
       "      <td>0.667964</td>\n",
       "      <td>0</td>\n",
       "      <td>0</td>\n",
       "      <td>0</td>\n",
       "      <td>0</td>\n",
       "      <td>0</td>\n",
       "      <td>0</td>\n",
       "    </tr>\n",
       "    <tr>\n",
       "      <th>3</th>\n",
       "      <td>0003e1cccfd5a40a</td>\n",
       "      <td>\" \\n\\n It says it right there that it IS a typ...</td>\n",
       "      <td>0.068434</td>\n",
       "      <td>0</td>\n",
       "      <td>0</td>\n",
       "      <td>0</td>\n",
       "      <td>0</td>\n",
       "      <td>0</td>\n",
       "      <td>0</td>\n",
       "    </tr>\n",
       "    <tr>\n",
       "      <th>4</th>\n",
       "      <td>00059ace3e3e9a53</td>\n",
       "      <td>\" \\n\\n == Before adding a new product to the l...</td>\n",
       "      <td>0.151724</td>\n",
       "      <td>0</td>\n",
       "      <td>0</td>\n",
       "      <td>0</td>\n",
       "      <td>0</td>\n",
       "      <td>0</td>\n",
       "      <td>0</td>\n",
       "    </tr>\n",
       "  </tbody>\n",
       "</table>\n",
       "</div>"
      ],
      "text/plain": [
       "                 id                                       comment_text  \\\n",
       "0  0001ea8717f6de06  Thank you for understanding. I think very high...   \n",
       "1  000247e83dcc1211                   :Dear god this site is horrible.   \n",
       "2  0002f87b16116a7f  \"::: Somebody will invariably try to add Relig...   \n",
       "3  0003e1cccfd5a40a  \" \\n\\n It says it right there that it IS a typ...   \n",
       "4  00059ace3e3e9a53  \" \\n\\n == Before adding a new product to the l...   \n",
       "\n",
       "      score  toxic  severe_toxic  obscene  threat  insult  identity_hate  \n",
       "0  0.075638      0             0        0       0       0              0  \n",
       "1  0.450459      0             0        0       0       0              0  \n",
       "2  0.667964      0             0        0       0       0              0  \n",
       "3  0.068434      0             0        0       0       0              0  \n",
       "4  0.151724      0             0        0       0       0              0  "
      ]
     },
     "execution_count": 10,
     "metadata": {},
     "output_type": "execute_result"
    }
   ],
   "source": [
    "df.head()"
   ]
  },
  {
   "cell_type": "code",
   "execution_count": 12,
   "id": "92c7b43e-4a17-40d7-b5da-9a2f5b52b7fa",
   "metadata": {},
   "outputs": [
    {
     "data": {
      "text/html": [
       "<div>\n",
       "<style scoped>\n",
       "    .dataframe tbody tr th:only-of-type {\n",
       "        vertical-align: middle;\n",
       "    }\n",
       "\n",
       "    .dataframe tbody tr th {\n",
       "        vertical-align: top;\n",
       "    }\n",
       "\n",
       "    .dataframe thead th {\n",
       "        text-align: right;\n",
       "    }\n",
       "</style>\n",
       "<table border=\"1\" class=\"dataframe\">\n",
       "  <thead>\n",
       "    <tr style=\"text-align: right;\">\n",
       "      <th></th>\n",
       "      <th>id</th>\n",
       "      <th>comment_text</th>\n",
       "      <th>score</th>\n",
       "      <th>toxic</th>\n",
       "      <th>severe_toxic</th>\n",
       "      <th>obscene</th>\n",
       "      <th>threat</th>\n",
       "      <th>insult</th>\n",
       "      <th>identity_hate</th>\n",
       "    </tr>\n",
       "  </thead>\n",
       "  <tbody>\n",
       "    <tr>\n",
       "      <th>41333</th>\n",
       "      <td>9480bff99f91a69e</td>\n",
       "      <td>Lesbian Teenager \\nHow about the fact she was ...</td>\n",
       "      <td>0.797672</td>\n",
       "      <td>1</td>\n",
       "      <td>0</td>\n",
       "      <td>0</td>\n",
       "      <td>0</td>\n",
       "      <td>0</td>\n",
       "      <td>0</td>\n",
       "    </tr>\n",
       "    <tr>\n",
       "      <th>41334</th>\n",
       "      <td>9480115b93762c35</td>\n",
       "      <td>Crack, also called cocaine is very good for yo...</td>\n",
       "      <td>0.240977</td>\n",
       "      <td>0</td>\n",
       "      <td>0</td>\n",
       "      <td>0</td>\n",
       "      <td>0</td>\n",
       "      <td>0</td>\n",
       "      <td>0</td>\n",
       "    </tr>\n",
       "    <tr>\n",
       "      <th>41335</th>\n",
       "      <td>947f206c14a85d9d</td>\n",
       "      <td>REDIRECT Talk:The Test (The O.C.)</td>\n",
       "      <td>0.012671</td>\n",
       "      <td>0</td>\n",
       "      <td>0</td>\n",
       "      <td>0</td>\n",
       "      <td>0</td>\n",
       "      <td>0</td>\n",
       "      <td>0</td>\n",
       "    </tr>\n",
       "    <tr>\n",
       "      <th>41336</th>\n",
       "      <td>947e3f5f2d613605</td>\n",
       "      <td>A question concerning your edit to my user-pag...</td>\n",
       "      <td>0.227474</td>\n",
       "      <td>0</td>\n",
       "      <td>0</td>\n",
       "      <td>0</td>\n",
       "      <td>0</td>\n",
       "      <td>0</td>\n",
       "      <td>0</td>\n",
       "    </tr>\n",
       "    <tr>\n",
       "      <th>41337</th>\n",
       "      <td>94768f82798de227</td>\n",
       "      <td>Cited sources? I looked in Category:Abnormal p...</td>\n",
       "      <td>0.341041</td>\n",
       "      <td>0</td>\n",
       "      <td>0</td>\n",
       "      <td>0</td>\n",
       "      <td>0</td>\n",
       "      <td>0</td>\n",
       "      <td>0</td>\n",
       "    </tr>\n",
       "  </tbody>\n",
       "</table>\n",
       "</div>"
      ],
      "text/plain": [
       "                     id                                       comment_text  \\\n",
       "41333  9480bff99f91a69e  Lesbian Teenager \\nHow about the fact she was ...   \n",
       "41334  9480115b93762c35  Crack, also called cocaine is very good for yo...   \n",
       "41335  947f206c14a85d9d                  REDIRECT Talk:The Test (The O.C.)   \n",
       "41336  947e3f5f2d613605  A question concerning your edit to my user-pag...   \n",
       "41337  94768f82798de227  Cited sources? I looked in Category:Abnormal p...   \n",
       "\n",
       "          score  toxic  severe_toxic  obscene  threat  insult  identity_hate  \n",
       "41333  0.797672      1             0        0       0       0              0  \n",
       "41334  0.240977      0             0        0       0       0              0  \n",
       "41335  0.012671      0             0        0       0       0              0  \n",
       "41336  0.227474      0             0        0       0       0              0  \n",
       "41337  0.341041      0             0        0       0       0              0  "
      ]
     },
     "execution_count": 12,
     "metadata": {},
     "output_type": "execute_result"
    }
   ],
   "source": [
    "df.tail()"
   ]
  },
  {
   "cell_type": "code",
   "execution_count": 30,
   "id": "12e0d4e1-ddad-4cf2-b2ee-77b591b42fc2",
   "metadata": {},
   "outputs": [
    {
     "data": {
      "text/plain": [
       "0.310894    476\n",
       "0.515460    163\n",
       "0.534903    144\n",
       "0.860626    141\n",
       "0.695427    141\n",
       "           ... \n",
       "0.128345      1\n",
       "0.067656      1\n",
       "0.833239      1\n",
       "0.254922      1\n",
       "0.341041      1\n",
       "Name: score, Length: 39108, dtype: int64"
      ]
     },
     "execution_count": 30,
     "metadata": {},
     "output_type": "execute_result"
    }
   ],
   "source": [
    "df[\"score\"].value_counts()"
   ]
  },
  {
   "cell_type": "code",
   "execution_count": null,
   "id": "bcd2457f-ff3a-4828-bb01-6999cb9d964c",
   "metadata": {},
   "outputs": [],
   "source": []
  },
  {
   "cell_type": "markdown",
   "id": "0659eaf9-1986-4c52-845d-af1498c148d4",
   "metadata": {},
   "source": [
    "#### download api"
   ]
  },
  {
   "cell_type": "code",
   "execution_count": 4,
   "id": "5b24504b-ca4d-45de-93d2-8107704100c4",
   "metadata": {},
   "outputs": [],
   "source": [
    "from googleapiclient.discovery import build\n",
    "import json\n",
    "\n",
    "def get_toxicity_score(comment):\n",
    "    \n",
    "  API_KEY = ##cannot make public\n",
    "    \n",
    "  client = build(\n",
    "  \"commentanalyzer\",\n",
    "  \"v1alpha1\",\n",
    "  developerKey=API_KEY,\n",
    "  discoveryServiceUrl=\"https://commentanalyzer.googleapis.com/$discovery/rest?version=v1alpha1\",\n",
    "  static_discovery=False,\n",
    "  )\n",
    "\n",
    "  analyze_request = {\n",
    "  'comment': { 'text': comment },\n",
    "  'requestedAttributes': {'TOXICITY': {}}\n",
    "  }\n",
    "    \n",
    "  response = client.comments().analyze(body=analyze_request).execute()\n",
    "  toxicity_score = response[\"attributeScores\"][\"TOXICITY\"][\"summaryScore\"][\"value\"]\n",
    "    \n",
    "  return toxicity_score\n"
   ]
  },
  {
   "cell_type": "markdown",
   "id": "89c27a26-eb1d-4019-bf37-e0345e93bb85",
   "metadata": {},
   "source": [
    "#### We are now ready to compare different commens and its toxicity score.\n",
    "#### My hypothesis is that the algorithm is biased to mark comments with curses (bad connotation) as much more toxic than comments without it, that relly mean the same. And, in the other hand bad comments with \"good\" conotation words get lower score.\n",
    "\n",
    "##### as we can see in the next lines, some of the phrases mean literally the same, and even that they have really different scores."
   ]
  },
  {
   "cell_type": "code",
   "execution_count": 12,
   "id": "efd55550-8d0a-4281-846a-805c74a8c8e2",
   "metadata": {},
   "outputs": [
    {
     "name": "stdout",
     "output_type": "stream",
     "text": [
      "i fucking love you 0.6700739\n",
      "i love you 0.053175487\n"
     ]
    }
   ],
   "source": [
    "comment_list = [\"i fucking love you\", \"i love you\"]\n",
    "\n",
    "for comment in comment_list:\n",
    "    score = get_toxicity_score(comment)\n",
    "    print(comment, score)\n",
    "    time.sleep(1)"
   ]
  },
  {
   "cell_type": "code",
   "execution_count": 21,
   "id": "58b5f46b-d848-4f61-9ad7-1d287b282a5e",
   "metadata": {},
   "outputs": [
    {
     "name": "stdout",
     "output_type": "stream",
     "text": [
      "you are the best 0.06927385\n",
      "you are the fucking best 0.8785311\n"
     ]
    }
   ],
   "source": [
    "comment_list = [\"you are the best\", \"you are the fucking best\"]\n",
    "\n",
    "for comment in comment_list:\n",
    "    score = get_toxicity_score(comment)\n",
    "    print(comment, score)\n",
    "    time.sleep(1)"
   ]
  },
  {
   "cell_type": "code",
   "execution_count": 22,
   "id": "871e6e93-090b-4220-ba27-708a505feb27",
   "metadata": {},
   "outputs": [
    {
     "name": "stdout",
     "output_type": "stream",
     "text": [
      "i hate you 0.89758086\n",
      "God, i hate you 0.871904\n"
     ]
    }
   ],
   "source": [
    "comment_list = [\"i hate you\", \"God, i hate you\" ]\n",
    "\n",
    "for comment in comment_list:\n",
    "    score = get_toxicity_score(comment)\n",
    "    print(comment, score)\n",
    "    time.sleep(1)"
   ]
  },
  {
   "cell_type": "code",
   "execution_count": 26,
   "id": "11712342-b464-4d79-b226-d1f35d868924",
   "metadata": {},
   "outputs": [
    {
     "name": "stdout",
     "output_type": "stream",
     "text": [
      "i hate being so helpful 0.3826455\n",
      "i do not enjoy being so helpful 0.19667235\n"
     ]
    }
   ],
   "source": [
    "comment_list = [\"i hate being so helpful\", \"i do not enjoy being so helpful\"]\n",
    "\n",
    "for comment in comment_list:\n",
    "    score = get_toxicity_score(comment)\n",
    "    print(comment, score)\n",
    "    time.sleep(1)"
   ]
  },
  {
   "cell_type": "code",
   "execution_count": 33,
   "id": "3f26b298-cfce-4275-b12e-08c71cce544e",
   "metadata": {},
   "outputs": [
    {
     "data": {
      "text/plain": [
       "0.06927385"
      ]
     },
     "execution_count": 33,
     "metadata": {},
     "output_type": "execute_result"
    }
   ],
   "source": [
    "get_toxicity_score(\"you are the best\")"
   ]
  },
  {
   "cell_type": "code",
   "execution_count": 34,
   "id": "a8733ce4-8a69-4d9f-9379-f586ef4a30e2",
   "metadata": {},
   "outputs": [
    {
     "data": {
      "text/plain": [
       "0.31089434"
      ]
     },
     "execution_count": 34,
     "metadata": {},
     "output_type": "execute_result"
    }
   ],
   "source": [
    "get_toxicity_score(\"you are not the best\")"
   ]
  },
  {
   "cell_type": "code",
   "execution_count": 10,
   "id": "6a138fd8-f1ed-4e2f-8ac1-504770b4130d",
   "metadata": {},
   "outputs": [
    {
     "data": {
      "text/plain": [
       "0.70969206"
      ]
     },
     "execution_count": 10,
     "metadata": {},
     "output_type": "execute_result"
    }
   ],
   "source": [
    "get_toxicity_score(\"you are the worse\")"
   ]
  },
  {
   "cell_type": "code",
   "execution_count": 15,
   "id": "42fddbb4-4745-478f-8192-44fd753e3274",
   "metadata": {},
   "outputs": [
    {
     "name": "stdout",
     "output_type": "stream",
     "text": [
      "fuck! i love this book 0.93232936\n",
      "fuck! i hate this book.  0.97136253\n",
      "i love this book 0.07032179\n",
      "i hate this book 0.40535083\n",
      "this book is cool 0.06926425\n",
      "this book is not cool 0.11042477\n"
     ]
    }
   ],
   "source": [
    "comment_list = [\"fuck! i love this book\", \"fuck! i hate this book. \" , \"i love this book\", \"i hate this book\" , \"this book is cool\" , \"this book is not cool\"]\n",
    "\n",
    "for comment in comment_list:\n",
    "    score = get_toxicity_score(comment)\n",
    "    print(comment, score)\n",
    "    time.sleep(1)"
   ]
  },
  {
   "cell_type": "code",
   "execution_count": 14,
   "id": "9297ea23-da3d-4834-9a90-2413b23d7497",
   "metadata": {},
   "outputs": [
    {
     "name": "stdout",
     "output_type": "stream",
     "text": [
      "he is awful 0.5876557\n",
      "he is not the best person 0.15116827\n"
     ]
    }
   ],
   "source": [
    "comment_list = [\"he is awful\", \"he is not the best person\"]\n",
    "\n",
    "for comment in comment_list:\n",
    "    score = get_toxicity_score(comment)\n",
    "    print(comment, score)\n",
    "    time.sleep(1)"
   ]
  },
  {
   "cell_type": "code",
   "execution_count": 17,
   "id": "761aecc1-f799-443a-8bba-817fbe43d8ea",
   "metadata": {},
   "outputs": [
    {
     "name": "stdout",
     "output_type": "stream",
     "text": [
      "Impeach Biden. There are so many reasons why. 0.10590001\n",
      "Impeach this bitch. There are so many reasons why. 0.9480856\n"
     ]
    }
   ],
   "source": [
    "comment_list = [\"Impeach Biden. There are so many reasons why.\" , \"Impeach this bitch. There are so many reasons why.\"]\n",
    "\n",
    "for comment in comment_list:\n",
    "    score = get_toxicity_score(comment)\n",
    "    print(comment, score)\n",
    "    time.sleep(1)"
   ]
  },
  {
   "cell_type": "code",
   "execution_count": 18,
   "id": "e4ffb37d-524e-4a9b-817b-93030f5bb878",
   "metadata": {},
   "outputs": [
    {
     "name": "stdout",
     "output_type": "stream",
     "text": [
      "It's a new day in America. 0.06915542\n",
      "hello literally everyone 0.06315755\n",
      "We did it, @JoeBiden 0.090819836\n",
      "Hey guy, wanna feel old? I'm 40. You're welcome 0.05621792\n"
     ]
    }
   ],
   "source": [
    "comment_list = [\"It's a new day in America.\" , \"hello literally everyone\" , \"We did it, @JoeBiden\" , \"Hey guy, wanna feel old? I'm 40. You're welcome\"]\n",
    "for comment in comment_list:\n",
    "    score = get_toxicity_score(comment)\n",
    "    print(comment, score)\n",
    "    time.sleep(1)"
   ]
  },
  {
   "cell_type": "code",
   "execution_count": null,
   "id": "94a5ab68-4346-4360-87d0-da2cd5e2e850",
   "metadata": {},
   "outputs": [],
   "source": []
  }
 ],
 "metadata": {
  "kernelspec": {
   "display_name": "Python 3 (ipykernel)",
   "language": "python",
   "name": "python3"
  },
  "language_info": {
   "codemirror_mode": {
    "name": "ipython",
    "version": 3
   },
   "file_extension": ".py",
   "mimetype": "text/x-python",
   "name": "python",
   "nbconvert_exporter": "python",
   "pygments_lexer": "ipython3",
   "version": "3.9.7"
  }
 },
 "nbformat": 4,
 "nbformat_minor": 5
}
